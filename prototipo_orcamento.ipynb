{
 "cells": [
  {
   "cell_type": "code",
   "execution_count": 1,
   "id": "772c49f1",
   "metadata": {},
   "outputs": [],
   "source": [
    "from pathlib import Path\n",
    "import pandas as pd\n",
    "from openpyxl import load_workbook\n",
    "import os"
   ]
  },
  {
   "cell_type": "code",
   "execution_count": 2,
   "id": "69123f82",
   "metadata": {},
   "outputs": [],
   "source": [
    "PATH_FILES_ONE_DRIVE = Path(r'C:\\Users\\h-pgy\\one_drive_prefs\\OneDrive - Default Directory\\Shared Documents\\Estruturação do PDM 2021-2024\\Elaboração PDM Versão Final')"
   ]
  },
  {
   "cell_type": "code",
   "execution_count": 3,
   "id": "7287fb53",
   "metadata": {},
   "outputs": [],
   "source": [
    "class PlanilhaNotFound(ValueError):\n",
    "    '''Raised quando nao consegue achar planilha para a meta'''"
   ]
  },
  {
   "cell_type": "code",
   "execution_count": 4,
   "id": "731c579d",
   "metadata": {},
   "outputs": [],
   "source": [
    "def listar_metas_ok():\n",
    "    \n",
    "    controle = pd.read_excel(PATH_FILES_ONE_DRIVE/'Controle das Devolutivas.xlsx')\n",
    "    \n",
    "    filtro_preench = controle['Aba Orçamento preenchida corretamente?'].str.lower()=='sim'\n",
    "    filtro_analis = controle['Aba orçamento já analisada?'].str.lower()=='sim'\n",
    "    \n",
    "    return controle[filtro_preench&filtro_analis]['Meta'].values"
   ]
  },
  {
   "cell_type": "code",
   "execution_count": 5,
   "id": "2d93c32f",
   "metadata": {},
   "outputs": [],
   "source": [
    "def get_planilhas(folder_original):\n",
    "        \n",
    "        fpaths =  [os.path.join(folder_original, file) for file in \n",
    "                    os.listdir(folder_original) if 'xls' \n",
    "                    in file.split('.')[-1]]\n",
    "        \n",
    "        return fpaths"
   ]
  },
  {
   "cell_type": "code",
   "execution_count": 6,
   "id": "44d5afe1",
   "metadata": {},
   "outputs": [],
   "source": [
    "def read_workbook(file):\n",
    "\n",
    "    wb = load_workbook(file, read_only=True, data_only=True)\n",
    "\n",
    "    return wb"
   ]
  },
  {
   "cell_type": "code",
   "execution_count": 7,
   "id": "d4ec19d1",
   "metadata": {},
   "outputs": [],
   "source": [
    "def match_planilha(wb, num_meta):\n",
    "        \n",
    "        sheet = wb['Ficha técnica Meta ']\n",
    "        \n",
    "        num_meta_planilha = sheet['C5'].value\n",
    "        \n",
    "        if str(num_meta_planilha) == str(num_meta):\n",
    "            return True"
   ]
  },
  {
   "cell_type": "code",
   "execution_count": 8,
   "id": "4e65d848",
   "metadata": {},
   "outputs": [],
   "source": [
    "def find_planilha(files, num_meta):\n",
    "    \n",
    "    for file in files:\n",
    "        \n",
    "        wb = read_workbook(file)\n",
    "        \n",
    "        if match_planilha(wb, num_meta):\n",
    "            secretaria = wb['Ficha técnica Meta ']['C4'].value\n",
    "            return file, secretaria\n",
    "    else:\n",
    "        raise PlanilhaNotFound(f'Planilha não encontrada para a meta {num_meta}')"
   ]
  },
  {
   "cell_type": "code",
   "execution_count": 9,
   "id": "ea411f30",
   "metadata": {},
   "outputs": [],
   "source": [
    "def planilhao(lista_ok = None, path_xls = None, lista_dfs = None):\n",
    "    \n",
    "    if path_xls is None:\n",
    "        path_xls = PATH_FILES_ONE_DRIVE/'Fichas Metas\\Devolutiva 11-jun'\n",
    "        \n",
    "    if lista_ok is None:\n",
    "        lista_ok = listar_metas_ok()\n",
    "        \n",
    "    if lista_dfs is None:\n",
    "        lista_dfs = []\n",
    "    \n",
    "    f_paths = get_planilhas(path_xls)\n",
    "        \n",
    "    for meta in lista_ok:\n",
    "        print(f'Puxando dados meta {meta}')\n",
    "        try:\n",
    "            file, secretaria = find_planilha(f_paths, meta)\n",
    "        except PlanilhaNotFound as e:\n",
    "            print(e)\n",
    "            continue\n",
    "        df = pd.read_excel(file, sheet_name = 'Orçamento', thousands = '.',\n",
    "                          dtype = {'Código Ação' : str})\n",
    "        df['meta'] = meta\n",
    "        df['secretaria'] = secretaria\n",
    "        lista_dfs.append(df)\n",
    "    \n",
    "    return pd.concat(lista_dfs)\n",
    "    "
   ]
  },
  {
   "cell_type": "code",
   "execution_count": 10,
   "id": "6f8e85dd",
   "metadata": {},
   "outputs": [],
   "source": [
    "lista_dfs = []"
   ]
  },
  {
   "cell_type": "code",
   "execution_count": null,
   "id": "f731849d",
   "metadata": {},
   "outputs": [
    {
     "name": "stdout",
     "output_type": "stream",
     "text": [
      "Puxando dados meta 9\n",
      "Puxando dados meta 13\n",
      "Puxando dados meta 14\n",
      "Puxando dados meta 15\n",
      "Puxando dados meta 16\n",
      "Puxando dados meta 18\n",
      "Puxando dados meta 19\n",
      "Puxando dados meta 20\n",
      "Puxando dados meta 21\n",
      "Puxando dados meta 22\n",
      "Puxando dados meta 23\n",
      "Puxando dados meta 24\n",
      "Puxando dados meta 25\n",
      "Puxando dados meta 26\n",
      "Puxando dados meta 27\n",
      "Puxando dados meta 28\n"
     ]
    }
   ],
   "source": [
    "df = planilhao(lista_dfs = lista_dfs)"
   ]
  },
  {
   "cell_type": "code",
   "execution_count": null,
   "id": "bf0b0aaf",
   "metadata": {},
   "outputs": [],
   "source": [
    "def dropar_unnamed(df):\n",
    "    \n",
    "    unnameds = [col for col in df if\n",
    "               col.startswith('Unnamed: ')]\n",
    "    \n",
    "    df.drop(unnameds, axis = 1, inplace = True)\n",
    "    for col in df:\n",
    "        if col.startswith('Unnamed: '):\n",
    "            df.drop(col, axis = 1, )"
   ]
  },
  {
   "cell_type": "code",
   "execution_count": null,
   "id": "20678287",
   "metadata": {},
   "outputs": [],
   "source": [
    "dropar_unnamed(df)"
   ]
  },
  {
   "cell_type": "code",
   "execution_count": null,
   "id": "c7f4cf44",
   "metadata": {},
   "outputs": [],
   "source": [
    "sem_na = df.dropna(how='all', subset = [col for col in df.columns if col not in ('meta', 'secretaria')]).copy()"
   ]
  },
  {
   "cell_type": "code",
   "execution_count": null,
   "id": "497a3b1c",
   "metadata": {},
   "outputs": [],
   "source": [
    "def pegar_objetivos(df):\n",
    "    \n",
    "    objetivos = pd.read_excel('original_data/Metas com Objetivos atualizados 18-06-21.xlsx')\n",
    "    \n",
    "    merged = df.merge(objetivos, how = 'left', \n",
    "                      right_on = 'Nº meta PdM ',  left_on = 'meta').copy()\n",
    "    \n",
    "    merged.drop(['Redação da Meta PdM ','Nº meta PdM '],\n",
    "               axis = 1, inplace = True)\n",
    "    \n",
    "    return merged"
   ]
  },
  {
   "cell_type": "code",
   "execution_count": null,
   "id": "a48e9dba",
   "metadata": {},
   "outputs": [],
   "source": [
    "sem_na = pegar_objetivos(sem_na)"
   ]
  },
  {
   "cell_type": "code",
   "execution_count": null,
   "id": "87f07784",
   "metadata": {},
   "outputs": [],
   "source": [
    "'XX.XX.XXXX.XX'.split('.')"
   ]
  },
  {
   "cell_type": "code",
   "execution_count": null,
   "id": "e618d4f3",
   "metadata": {},
   "outputs": [],
   "source": [
    "def add_ponto_acao(item):\n",
    "    \n",
    "    item = str(item)\n",
    "    \n",
    "    if item == 'nan':\n",
    "        return 'XX.XX.XXXX.XX'\n",
    "    else:\n",
    "        return f'{item[:2]}.{item[2:4]}.{item[4:8]}.{item[8:10]}'"
   ]
  },
  {
   "cell_type": "code",
   "execution_count": null,
   "id": "f12bbb9e",
   "metadata": {},
   "outputs": [],
   "source": [
    "sem_na['Código Ação'] = sem_na['Código Ação'].apply(add_ponto_acao)"
   ]
  },
  {
   "cell_type": "code",
   "execution_count": null,
   "id": "891cf3b7",
   "metadata": {},
   "outputs": [],
   "source": [
    "sem_na['Unidade Orçamentária'] = sem_na['Código Ação'].apply(lambda x: '.'.join(x.split('.')[:2]))"
   ]
  },
  {
   "cell_type": "code",
   "execution_count": null,
   "id": "f949dccd",
   "metadata": {},
   "outputs": [],
   "source": [
    "sem_na['Ação'] = sem_na['Código Ação'].apply(lambda x: x.split('.')[2])"
   ]
  },
  {
   "cell_type": "code",
   "execution_count": null,
   "id": "d950c962",
   "metadata": {},
   "outputs": [],
   "source": [
    "sem_na['Fonte'] = sem_na['Código Ação'].apply(lambda x: x.split('.')[3])"
   ]
  },
  {
   "cell_type": "code",
   "execution_count": null,
   "id": "6231b90c",
   "metadata": {},
   "outputs": [],
   "source": [
    "ordem_cols = [\n",
    "    'Objetivo Estratégico Atualizado',\n",
    "    'secretaria',\n",
    "    'meta',\n",
    "    'IN',\n",
    "    'Item',\n",
    "    'Custeio/\\nInvestimento',\n",
    "    'Código Ação',\n",
    "    'Unidade Orçamentária',\n",
    "    'Ação',\n",
    "    'Fonte',\n",
    "    'classif.',\n",
    "    'V. Atualizado',\n",
    "    'V. Congelado',\n",
    "    'V. Disponível',\n",
    "    'Atualizado (Disponibilizado PDM)',\n",
    "    'Congelado (Dispon. PDM)',\n",
    "    'Disponível (Dispon. PDM)',\n",
    "    'Custo 2021',\n",
    "    'Custo 2022',\n",
    "    'Custo 2023',\n",
    "    'Custo 2024',\n",
    "    'Custo TOTAL',\n",
    "     \n",
    "     ]"
   ]
  },
  {
   "cell_type": "code",
   "execution_count": null,
   "id": "7905bdf6",
   "metadata": {},
   "outputs": [],
   "source": [
    "sem_na = sem_na[ordem_cols]"
   ]
  },
  {
   "cell_type": "code",
   "execution_count": null,
   "id": "0ce6d2b3",
   "metadata": {},
   "outputs": [],
   "source": [
    "sem_na.to_excel('teste_planilhao_orcamento_2.xlsx', index = False)"
   ]
  },
  {
   "cell_type": "code",
   "execution_count": null,
   "id": "cde1bc93",
   "metadata": {},
   "outputs": [],
   "source": [
    "colunas_numericas = [\n",
    "'V. Atualizado',\n",
    "'V. Congelado',                       \n",
    "'V. Disponível',                        \n",
    "'Atualizado (Disponibilizado PDM)',\n",
    "'Congelado (Dispon. PDM)',    \n",
    "'Disponível (Dispon. PDM)',             \n",
    "'Custo 2021',            \n",
    "'Custo 2022',                          \n",
    "'Custo 2023',                          \n",
    "'Custo 2024',                          \n",
    "'Custo TOTAL']"
   ]
  },
  {
   "cell_type": "code",
   "execution_count": null,
   "id": "b0001479",
   "metadata": {},
   "outputs": [],
   "source": [
    "def solve_numero(item):\n",
    "    \n",
    "    if type(item) in (float, int):\n",
    "        return item\n",
    "    elif type(item) is str:\n",
    "        print(item)\n",
    "        try:\n",
    "            float(item)\n",
    "        except ValueError:\n",
    "            try:\n",
    "                item = item.replace('.', '')\n",
    "                item = item.replace(',', '.')\n",
    "                return float(item)\n",
    "            except ValueError:\n",
    "                print(f'Item {item} fora do padrão')\n",
    "                return 0\n",
    "    else:\n",
    "        print(type(item))"
   ]
  },
  {
   "cell_type": "code",
   "execution_count": null,
   "id": "dbe54948",
   "metadata": {},
   "outputs": [],
   "source": [
    "for col in colunas_numericas:\n",
    "    sem_na[col] = sem_na[col].apply(solve_numero)"
   ]
  },
  {
   "cell_type": "code",
   "execution_count": null,
   "id": "52c46940",
   "metadata": {},
   "outputs": [],
   "source": [
    "sem_na.dtypes"
   ]
  },
  {
   "cell_type": "code",
   "execution_count": null,
   "id": "8a934225",
   "metadata": {},
   "outputs": [],
   "source": [
    "df[df.eq('513,150,00').any(1)]"
   ]
  },
  {
   "cell_type": "code",
   "execution_count": null,
   "id": "5c1ff89b",
   "metadata": {},
   "outputs": [],
   "source": [
    "n_pode_vazio = [\n",
    "    'Atualizado (Disponibilizado PDM)',\n",
    "    'Congelado (Dispon. PDM)',\n",
    "    'Disponível (Dispon. PDM)',\n",
    "    'Custo 2021',\n",
    "    'Custo 2022',\n",
    "    'Custo 2022',\n",
    "    'Custo 2023',\n",
    "    'Custo 2024'\n",
    "]"
   ]
  },
  {
   "cell_type": "code",
   "execution_count": null,
   "id": "9c4fa714",
   "metadata": {},
   "outputs": [],
   "source": [
    "for col in n_pode_vazio:\n",
    "    soma = sem_na[col].isnull().sum()\n",
    "    if  soma > 0:\n",
    "        print(col, soma)"
   ]
  },
  {
   "cell_type": "code",
   "execution_count": null,
   "id": "337d17d7",
   "metadata": {},
   "outputs": [],
   "source": [
    "dropar = (sem_na['classif.'].isnull()|sem_na['Custeio/\\nInvestimento'].isnull()|sem_na['Objetivo Estratégico Atualizado'].isnull())"
   ]
  },
  {
   "cell_type": "code",
   "execution_count": null,
   "id": "1741c768",
   "metadata": {},
   "outputs": [],
   "source": [
    "sem_na[sem_na.isnull()]"
   ]
  },
  {
   "cell_type": "code",
   "execution_count": null,
   "id": "61309993",
   "metadata": {},
   "outputs": [],
   "source": []
  }
 ],
 "metadata": {
  "kernelspec": {
   "display_name": "Python 3",
   "language": "python",
   "name": "python3"
  },
  "language_info": {
   "codemirror_mode": {
    "name": "ipython",
    "version": 3
   },
   "file_extension": ".py",
   "mimetype": "text/x-python",
   "name": "python",
   "nbconvert_exporter": "python",
   "pygments_lexer": "ipython3",
   "version": "3.7.4"
  }
 },
 "nbformat": 4,
 "nbformat_minor": 5
}
