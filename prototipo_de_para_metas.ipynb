{
 "cells": [
  {
   "cell_type": "code",
   "execution_count": 1,
   "id": "fd4dfb2f",
   "metadata": {},
   "outputs": [],
   "source": [
    "import pandas as pd\n",
    "from pathlib import Path\n",
    "import re"
   ]
  },
  {
   "cell_type": "code",
   "execution_count": 2,
   "id": "85c34109",
   "metadata": {},
   "outputs": [],
   "source": [
    "PATH_ONE_DRIVE = Path(r'C:\\Users\\h-pgy\\one_drive_prefs\\OneDrive - Default Directory\\Shared Documents\\Estruturação do PDM 2021-2024')"
   ]
  },
  {
   "cell_type": "code",
   "execution_count": 3,
   "id": "6f2198c9",
   "metadata": {},
   "outputs": [],
   "source": [
    "def open_planilha(path_arquivo = None):\n",
    "    \n",
    "    if path_arquivo is None:\n",
    "        path_arquivo = 'Sistematização\\Devolutivas Planilhas Secretarias - Final\\_Devolutiva - Base de dados V3 - USAR ESTE.xlsx'\n",
    "    \n",
    "    path_arquivo = PATH_ONE_DRIVE/path_arquivo\n",
    "    \n",
    "    return pd.read_excel(path_arquivo, sheet_name = 'resposta')"
   ]
  },
  {
   "cell_type": "code",
   "execution_count": 4,
   "id": "57aa43e9",
   "metadata": {},
   "outputs": [],
   "source": [
    "def open_controle(path_arquivo = None):\n",
    "    \n",
    "    if path_arquivo is None:\n",
    "        path_arquivo = 'Elaboração PDM Versão Final\\Controle das Devolutivas.xlsx'\n",
    "    \n",
    "    path_arquivo = PATH_ONE_DRIVE/path_arquivo\n",
    "    \n",
    "    return pd.read_excel(path_arquivo)"
   ]
  },
  {
   "cell_type": "code",
   "execution_count": 5,
   "id": "770757c4",
   "metadata": {},
   "outputs": [],
   "source": [
    "def convert_float(item):\n",
    "    \n",
    "    if pd.isnull(item):\n",
    "        return item\n",
    "    \n",
    "    str_item = str(item)\n",
    "    \n",
    "    if ',' in str_item:\n",
    "        str_item = str_item.replace(',', '.')\n",
    "        return float(str_item)\n",
    "    if '.' in str_item:\n",
    "        return float(str_item)\n",
    "    try:\n",
    "        return int(item)\n",
    "    except ValueError:\n",
    "        pass\n",
    "    \n",
    "    return item\n",
    "\n",
    "def pegar_novo_numero(meta_citada, controle):\n",
    "    \n",
    "    row_controle = controle[controle['Meta']==meta_citada]\n",
    "    \n",
    "    if not row_controle.empty:\n",
    "        row = row_controle.iloc[0]\n",
    "        return row['NOVO Nº Meta']\n",
    "    else:\n",
    "        print(f'Meta {meta_citada} não encontrada no controle!')\n",
    "        return meta_citada\n",
    "\n",
    "def clean_float(item):\n",
    "    \n",
    "    item = str(item)\n",
    "    \n",
    "    if '.' in item:\n",
    "        esquerda, direita = item.split('.')\n",
    "        if int(direita)>0:\n",
    "            return item\n",
    "        else:\n",
    "            return esquerda\n",
    "    \n",
    "    return item\n",
    "\n",
    "def alterar_meta_resposta(row, planilha_controle):\n",
    "    \n",
    "    resp_inicial = row['Resposta inicial']\n",
    "    meta_citada = row['meta_original_citada']\n",
    "    if pd.notnull(meta_citada):\n",
    "        \n",
    "        meta_citada_float = convert_float(meta_citada)\n",
    "        nova_meta = pegar_novo_numero(meta_citada_float, \n",
    "                                      planilha_controle)\n",
    "        nova_meta = clean_float(nova_meta)\n",
    "        pat = f'#Meta {meta_citada}#'\n",
    "        resp_alterada = resp_inicial.replace(pat, f'Meta {nova_meta}')\n",
    "        \n",
    "        return resp_alterada\n",
    "    return ''\n",
    "\n",
    "def segunda_alteracao(row, planilha_controle):\n",
    "    \n",
    "    resp_inicial = row['Resposta alterada H']\n",
    "    meta_citada = row['segunda_meta_citada']\n",
    "    if pd.notnull(meta_citada):\n",
    "        \n",
    "        meta_citada_float = convert_float(meta_citada)\n",
    "        nova_meta = pegar_novo_numero(meta_citada_float, \n",
    "                                      planilha_controle)\n",
    "        nova_meta = clean_float(nova_meta)\n",
    "        pat = f'#Meta {meta_citada}#'\n",
    "        resp_alterada = resp_inicial.replace(pat, f'Meta {nova_meta}')\n",
    "        \n",
    "        return resp_alterada\n",
    "    return resp_inicial"
   ]
  },
  {
   "cell_type": "code",
   "execution_count": 6,
   "id": "d0356080",
   "metadata": {},
   "outputs": [],
   "source": [
    "def alterar_respostas(df, controle):\n",
    "    \n",
    "    df = df.copy()\n",
    "    df['Resposta inicial'] = df['Resposta inicial'].fillna('')\n",
    "    \n",
    "    pat = re.compile(r'#[mM]eta (\\d{1,2},{0,1}\\d{0,1})#')\n",
    "    df['meta_original_citada'] = df['Resposta inicial'].str.extract(pat)\n",
    "    print('Primeiras metas citadas')\n",
    "    print(df['meta_original_citada'].unique())\n",
    "    df['Resposta alterada H'] = df.apply(alterar_meta_resposta, args = [controle], axis = 1)\n",
    "    df['segunda_meta_citada'] = df['Resposta alterada H'].str.extract(pat)\n",
    "    print('Segundas metas citadas')\n",
    "    print(df['segunda_meta_citada'].unique())\n",
    "    df['Resposta alterada H'] = df.apply(segunda_alteracao, args = [controle], axis = 1)\n",
    "    df['terceira_meta_citada'] = df['Resposta alterada H'].str.extract(pat)\n",
    "    print('Terceiras metas citadas - o que aparecer aqui nao sera alterado')\n",
    "    print(df['terceira_meta_citada'].unique())\n",
    "    \n",
    "    return df"
   ]
  },
  {
   "cell_type": "code",
   "execution_count": 7,
   "id": "98cf2f22",
   "metadata": {},
   "outputs": [],
   "source": [
    "controle = open_controle()"
   ]
  },
  {
   "cell_type": "code",
   "execution_count": 8,
   "id": "e3f62254",
   "metadata": {},
   "outputs": [],
   "source": [
    "df = open_planilha()"
   ]
  },
  {
   "cell_type": "code",
   "execution_count": 9,
   "id": "d26ec249",
   "metadata": {},
   "outputs": [
    {
     "name": "stdout",
     "output_type": "stream",
     "text": [
      "Primeiras metas citadas\n",
      "[nan '75' '52' '50' '17' '51' '49' '54' '57' '19' '55' '39' '38' '27' '28'\n",
      " '30' '14' '16' '2' '47']\n",
      "Segundas metas citadas\n",
      "[nan '56' '51' '29' '31']\n",
      "Terceiras metas citadas - o que aparecer aqui nao sera alterado\n",
      "[nan]\n"
     ]
    }
   ],
   "source": [
    "df = alterar_respostas(df, controle)"
   ]
  },
  {
   "cell_type": "code",
   "execution_count": 10,
   "id": "5420a7c2",
   "metadata": {},
   "outputs": [],
   "source": [
    "def tipo_vinculo(dado, controle):\n",
    "    \n",
    "    dado_str = str(dado)\n",
    "    pat_num = '\\d{1,2}'\n",
    "    pat_letra = '[A-Z]{1}'\n",
    "    \n",
    "    match_num = re.match(pat_num, dado_str)\n",
    "    match_letra = re.match(pat_letra, dado_str)\n",
    "    if match_num and match_num.group()==dado_str:\n",
    "        return 'meta'\n",
    "    elif match_letra and match_letra.group()==dado_str:\n",
    "        return 'objetivo'\n",
    "    else:\n",
    "        return 'nenhum'\n",
    "    \n",
    "def convert_float(item):\n",
    "    \n",
    "    if pd.isnull(item):\n",
    "        return item\n",
    "    \n",
    "    str_item = str(item)\n",
    "    \n",
    "    if ',' in str_item:\n",
    "        str_item = str_item.replace(',', '.')\n",
    "        return float(str_item)\n",
    "    if '.' in str_item:\n",
    "        return float(str_item)\n",
    "    try:\n",
    "        return int(item)\n",
    "    except ValueError:\n",
    "        pass\n",
    "    \n",
    "    return item\n",
    "\n",
    "def find_nova_meta(meta_antiga, controle):\n",
    "    \n",
    "    meta_antiga = convert_float(meta_antiga)\n",
    "    if meta_antiga == 5:\n",
    "        meta_antiga = 5.1\n",
    "    row_controle = controle[controle['Meta']==meta_antiga]\n",
    "    \n",
    "    if not row_controle.empty:\n",
    "        row = row_controle.iloc[0]\n",
    "        return row['NOVO Nº Meta']\n",
    "    else:\n",
    "        print(f'Meta {meta_antiga} não encontrada no controle!')\n",
    "        return meta_antiga\n",
    "    \n",
    "\n",
    "def find_novo_objetivo(objetivo_antigo, controle):\n",
    "    \n",
    "    row_controle = controle[controle['Objetivo Antigo']==objetivo_antigo]\n",
    "    \n",
    "    if not row_controle.empty:\n",
    "        row = row_controle.iloc[0]\n",
    "        return row['Objetivo Estratégico']\n",
    "    else:\n",
    "        print(f'Meta {meta_antiga} não encontrada no controle!')\n",
    "        return meta_antiga\n",
    "    \n",
    "def autualizar_vinculo(vinculo_antigo, controle):\n",
    "    \n",
    "    tipo = tipo_vinculo(vinculo_antigo, controle)\n",
    "    \n",
    "    if tipo == 'meta':\n",
    "        return find_nova_meta(vinculo_antigo, controle)\n",
    "    \n",
    "    elif tipo == 'objetivo':\n",
    "        return find_novo_objetivo(vinculo_antigo, controle)\n",
    "    \n",
    "    elif tipo == 'nenhum':\n",
    "        return vinculo_antigo\n",
    "    else:\n",
    "        print(tipo)\n",
    "        raise ValueError\n",
    "        \n",
    "def find_eixo_meta(meta, controle):\n",
    "    \n",
    "    row = controle[controle['NOVO Nº Meta']==meta]\n",
    "    \n",
    "    if not row.empty:\n",
    "    \n",
    "        return row['Eixo'].iloc[0]\n",
    "    else:\n",
    "        print(f'Meta {meta} nao encontrado')\n",
    "    \n",
    "def find_eixo_objetivo(objetivo, controle):\n",
    "    \n",
    "    row = controle[controle['Objetivo Estratégico']==objetivo]\n",
    "    \n",
    "    if not row.empty:\n",
    "    \n",
    "        return row['Eixo'].iloc[0]\n",
    "    else:\n",
    "        print(f'Objetivo {objetivo} nao encontrado')\n",
    "        \n",
    "def pegar_eixo(row, controle):\n",
    "    \n",
    "    tipo = tipo_vinculo(row['Vinculo'], controle)\n",
    "    vinculo_novo = row['Vinculo_novo']\n",
    "    if tipo == 'meta':\n",
    "        return find_eixo_meta(vinculo_novo, controle)\n",
    "    \n",
    "    elif tipo == 'objetivo':\n",
    "        return find_eixo_objetivo(vinculo_novo, controle)\n",
    "    \n",
    "    elif tipo == 'nenhum':\n",
    "        return 'N/A'\n",
    "    else:\n",
    "        print(tipo)\n",
    "        raise ValueError "
   ]
  },
  {
   "cell_type": "code",
   "execution_count": 11,
   "id": "603ad3de",
   "metadata": {},
   "outputs": [],
   "source": [
    "df['Vinculo_novo'] = df['Vinculo'].apply(autualizar_vinculo, args=[controle])"
   ]
  },
  {
   "cell_type": "code",
   "execution_count": 12,
   "id": "aa76df49",
   "metadata": {},
   "outputs": [],
   "source": [
    "df['Vinculo_eixo'] = df.apply(pegar_eixo, args=[controle], axis = 1)"
   ]
  },
  {
   "cell_type": "code",
   "execution_count": 13,
   "id": "cfb2a893",
   "metadata": {},
   "outputs": [
    {
     "data": {
      "text/plain": [
       "array(['N/A', 'SP Justa e Inclusiva_x000D_', 'SP Global e \\nSustentável',\n",
       "       'SP Eficiente', 'SP Inovadora e \\nCriativa_x000D_', 'SP Ágil ',\n",
       "       'SP Segura e Bem \\nCuidada '], dtype=object)"
      ]
     },
     "execution_count": 13,
     "metadata": {},
     "output_type": "execute_result"
    }
   ],
   "source": [
    "df['Vinculo_eixo'].unique()"
   ]
  },
  {
   "cell_type": "code",
   "execution_count": 14,
   "id": "76882805",
   "metadata": {},
   "outputs": [],
   "source": [
    "df.to_excel('devolutivas_arrumado_com_eixo.xlsx')"
   ]
  },
  {
   "cell_type": "code",
   "execution_count": null,
   "id": "de3dc802",
   "metadata": {},
   "outputs": [],
   "source": []
  }
 ],
 "metadata": {
  "kernelspec": {
   "display_name": "Python 3",
   "language": "python",
   "name": "python3"
  },
  "language_info": {
   "codemirror_mode": {
    "name": "ipython",
    "version": 3
   },
   "file_extension": ".py",
   "mimetype": "text/x-python",
   "name": "python",
   "nbconvert_exporter": "python",
   "pygments_lexer": "ipython3",
   "version": "3.7.4"
  }
 },
 "nbformat": 4,
 "nbformat_minor": 5
}
