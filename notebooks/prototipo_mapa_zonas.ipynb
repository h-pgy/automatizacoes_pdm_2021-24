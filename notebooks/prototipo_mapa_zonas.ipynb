{
 "cells": [
  {
   "cell_type": "code",
   "execution_count": 63,
   "id": "7eece052",
   "metadata": {},
   "outputs": [],
   "source": [
    "import json\n",
    "import os\n",
    "import pandas as pd\n",
    "import geopandas as gpd\n",
    "from collections import defaultdict\n",
    "import matplotlib.pyplot as plt"
   ]
  },
  {
   "cell_type": "code",
   "execution_count": 64,
   "id": "e3a0c8ba",
   "metadata": {},
   "outputs": [],
   "source": [
    "%matplotlib inline"
   ]
  },
  {
   "cell_type": "code",
   "execution_count": 65,
   "id": "1cec053f",
   "metadata": {},
   "outputs": [],
   "source": [
    "def get_fichas(path='rodada_5'):\n",
    "    \n",
    "    files = [os.path.join(path, file) for file \n",
    "            in os.listdir(path) if file.endswith('.json')]\n",
    "    \n",
    "    fichas = []\n",
    "    for file in files:\n",
    "        with open(file, 'r') as f:\n",
    "            ficha = json.load(f)\n",
    "            fichas.append(ficha)\n",
    "    \n",
    "    return fichas"
   ]
  },
  {
   "cell_type": "code",
   "execution_count": 66,
   "id": "005140e7",
   "metadata": {},
   "outputs": [],
   "source": [
    "def cmap_plot(geodf, col, f_name):\n",
    "\n",
    "    geodf[col] = geodf[col].apply(lambda x: float(x))\n",
    "    ax = geodf.plot(column=col, cmap='GnBu',\n",
    "                    legend=True,\n",
    "                    figsize=(10, 15),\n",
    "                    edgecolor='black',\n",
    "                   vmin=0)\n",
    "\n",
    "\n",
    "    plt.axis('off')\n",
    "\n",
    "    fig = ax.get_figure()\n",
    "\n",
    "    fig.savefig(f_name)\n",
    "\n",
    "    return fig"
   ]
  },
  {
   "cell_type": "code",
   "execution_count": 67,
   "id": "fe5ab221",
   "metadata": {},
   "outputs": [],
   "source": [
    "class ValorForaPadrao(ValueError):\n",
    "    '''Raised quando valor está fora do padrão aceitável'''\n",
    "\n",
    "class MapBuilder:\n",
    "    \n",
    "    \n",
    "    def __init__(self, path_shape_zonas = None, path_mapper_zonas = None, path_salvar = None):\n",
    "        \n",
    "        if path_mapper_zonas is None:\n",
    "            path_mapper_zonas = 'original_data/subs_por_zona.xlsx'\n",
    "        \n",
    "        self.mapper_zonas = self.get_sub_zona_mapper(path_mapper_zonas)\n",
    "        \n",
    "        if path_shape_zonas is None:\n",
    "            path_shape_zonas = 'original_data/SIRGAS_SHP_regiao_5/SIRGAS_REGIAO5.shp'\n",
    "        \n",
    "        self.shp_zonas = self.abrir_mapas_geosampa(path_shape_zonas)\n",
    "        self.add_zona_upper()\n",
    "        \n",
    "        if path_salvar is None:\n",
    "            path_salvar = self.solve_path_salvar('mapas_zonas_final')\n",
    "            \n",
    "        self.path_salvar = path_salvar\n",
    "            \n",
    "    def solve_path_salvar(self, path):\n",
    "        \n",
    "        if not os.path.exists(path):\n",
    "            os.mkdir(path)\n",
    "        \n",
    "        return path\n",
    "        \n",
    "    def get_sub_zona_mapper(self, path):\n",
    "\n",
    "        subs_por_zona = pd.read_excel(path)\n",
    "        lista =  subs_por_zona[['SUBPREFEITURA', 'Região']].to_dict('records')\n",
    "        dici = {item['SUBPREFEITURA'] : item['Região'] for item in lista}\n",
    "\n",
    "        return dici\n",
    "        \n",
    "    def abrir_mapas_geosampa(self, path):\n",
    "        \n",
    "        map_geodf = gpd.read_file(path)\n",
    "        map_geodf.crs = {'init': 'epsg:31983'}\n",
    "        map_geodf = map_geodf.to_crs(epsg=4326)\n",
    "\n",
    "        return map_geodf\n",
    "    \n",
    "    def add_zona_upper(self, shp_zonas = None):\n",
    "        \n",
    "        if shp_zonas is None:\n",
    "            shp_zonas = self.shp_zonas\n",
    "        \n",
    "        shp_zonas['NOME_UPPER'] = shp_zonas['NOME'].str.upper()\n",
    "        \n",
    "        \n",
    "\n",
    "    def extract_zonas(self, regionalizacao):\n",
    "        '''Extrai os dados de regionalizacao apenas para as zonas'''\n",
    "\n",
    "        name_zonas = set(('LESTE', 'NORTE', 'CENTRO', 'OESTE', 'SUL'))\n",
    "        zonas = [item for item in regionalizacao if \n",
    "                item['subprefeitura'] in name_zonas]\n",
    "\n",
    "        return zonas\n",
    "\n",
    "    def extract_subs(self, regionalizacao):\n",
    "\n",
    "        name_zonas = set(('LESTE', 'NORTE', 'CENTRO', 'OESTE', 'SUL'))\n",
    "        subs = [item for item in regionalizacao if \n",
    "                item['subprefeitura'] not in name_zonas]\n",
    "\n",
    "        return subs\n",
    "\n",
    "    \n",
    "    def padronizar_valor(self, val):\n",
    "        '''Como vamos agregar, estou considerando Null como Zero'''\n",
    "        \n",
    "        if pd.isnull(val):\n",
    "            val = 0\n",
    "        elif val == '':\n",
    "            return 0\n",
    "        elif type(val) in (int, float):\n",
    "            return val\n",
    "        try:\n",
    "            val = float(val)\n",
    "        except ValueError:\n",
    "            try:\n",
    "                val = val.strip()\n",
    "                val = val.replace('.', '')\n",
    "                val = val.replace(',', '.')\n",
    "                val = int(val)\n",
    "            except Exception as e:\n",
    "                raise ValorForaPadrao(f'Valor {val} fora do padrão')\n",
    "                \n",
    "        return val\n",
    "    \n",
    "    def padronizar_valor_verbose(self, valor, meta_num, supress_error = True):\n",
    "        \n",
    "        if supress_error:\n",
    "                try:\n",
    "                    valor = self.padronizar_valor(valor)\n",
    "                    return valor\n",
    "                except ValorForaPadrao as e:\n",
    "                    print(f'Erro na meta {meta_num}. Valor {valor} fora do padrão')\n",
    "                    return 0\n",
    "        else:\n",
    "            return self.padronizar_valor(valor)\n",
    "        \n",
    "\n",
    "    def parse_subs_data(self, ficha, mapper = None, suppress_error = True):\n",
    "\n",
    "        if mapper is None:\n",
    "            mapper = self.mapper_zonas\n",
    "            \n",
    "        subs = self.extract_subs(ficha['regionalizacao'])\n",
    "        meta_num = ficha['ficha_tecnica']['numero_meta']\n",
    "\n",
    "        parsed = defaultdict(int)\n",
    "        for sub in subs:\n",
    "            \n",
    "            zona = mapper[sub['subprefeitura']].upper()\n",
    "            valor = sub['projecao_quadrienio']\n",
    "            \n",
    "            valor_padrao = self.padronizar_valor_verbose(valor, \n",
    "                                                           meta_num, suppress_error)\n",
    "            \n",
    "            parsed[zona] += valor_padrao\n",
    "\n",
    "        return parsed\n",
    "\n",
    "    def parse_zonas_data(self, ficha, suppress_error = True):\n",
    "        \n",
    "        zonas = self.extract_zonas(ficha['regionalizacao'])\n",
    "        meta_num = ficha['ficha_tecnica']['numero_meta']\n",
    "        parsed = defaultdict(int)\n",
    "        for zona_dici in zonas:\n",
    "            zona = zona_dici['subprefeitura']\n",
    "            valor = zona_dici['projecao_quadrienio']\n",
    "                              \n",
    "            valor_padrao = self.padronizar_valor_verbose(valor, \n",
    "                                                           meta_num, suppress_error)\n",
    "            parsed[zona]+=valor_padrao\n",
    "            \n",
    "        return parsed\n",
    "    \n",
    "    def join_data(self, data):\n",
    "        \n",
    "        df = self.shp_zonas.copy()\n",
    "        \n",
    "        df['data'] = df['NOME_UPPER'].apply(lambda x: data[x])\n",
    "        \n",
    "        return df\n",
    "    \n",
    "    def set_file_name(self, ficha, path_salvar = None):\n",
    "        \n",
    "        if path_salvar is None:\n",
    "            path_salvar = self.path_salvar\n",
    "            \n",
    "        meta_num = ficha['ficha_tecnica']['numero_meta']\n",
    "        secretaria = ficha['ficha_tecnica']['secretaria']\n",
    "        secretaria = secretaria.replace('/', '_')\n",
    "        \n",
    "        f_name = f'{secretaria}_{meta_num}'\n",
    "        f_name = f_name[:10]+'.png'\n",
    "        \n",
    "        return os.path.join(path_salvar, f_name)\n",
    "\n",
    "    \n",
    "    def plot_data(self, ficha, tipo_dado, suppress_error = True, path_salvar = None):\n",
    "        \n",
    "        if tipo_dado not in ('subs', 'zonas'):\n",
    "            raise ValueError('tipo_dado must be \"subs\" or \"zonas\"')\n",
    "        \n",
    "        if tipo_dado == 'zonas':\n",
    "            data = self.parse_zonas_data(ficha, suppress_error = suppress_error)\n",
    "        else:\n",
    "            data = self.parse_subs_data(ficha, suppress_error = suppress_error)\n",
    "            \n",
    "        df = self.join_data(data)\n",
    "        \n",
    "        f_name = self.set_file_name(ficha, path_salvar)\n",
    "        fig = cmap_plot(df, 'data', f_name)\n",
    "        \n",
    "        return fig\n",
    "        \n",
    "\n",
    "    def decide_tipo_dado(self, ficha):\n",
    "        \n",
    "        zonas = self.parse_zonas_data(ficha)\n",
    "        \n",
    "        #checa se tem alguma informação para as zonas\n",
    "        if sum(zonas.values()) > 0:\n",
    "            return 'zonas'\n",
    "        \n",
    "        return 'subs'\n",
    "    \n",
    "    def __call__(self, ficha, suppress_error=True):\n",
    "        \n",
    "        tipo_dado = self.decide_tipo_dado(ficha)\n",
    "        self.plot_data(ficha, tipo_dado, suppress_error)"
   ]
  },
  {
   "cell_type": "code",
   "execution_count": 68,
   "id": "eb71cf1d",
   "metadata": {},
   "outputs": [],
   "source": [
    "fichas = get_fichas()"
   ]
  },
  {
   "cell_type": "code",
   "execution_count": 69,
   "id": "1bb3e748",
   "metadata": {},
   "outputs": [],
   "source": [
    "builder = MapBuilder()"
   ]
  },
  {
   "cell_type": "code",
   "execution_count": 70,
   "id": "4333303f",
   "metadata": {},
   "outputs": [],
   "source": [
    "ficha = fichas[0]"
   ]
  },
  {
   "cell_type": "code",
   "execution_count": 71,
   "id": "db071e81",
   "metadata": {},
   "outputs": [],
   "source": [
    "zonas =  [{'subprefeitura': 'LESTE',\n",
    "  'projecao_quadrienio': 1,\n",
    "  'status_regionalizacao': ''},\n",
    " {'subprefeitura': 'NORTE',\n",
    "  'projecao_quadrienio': 1,\n",
    "  'status_regionalizacao': ''},\n",
    " {'subprefeitura': 'CENTRO',\n",
    "  'projecao_quadrienio': 0,\n",
    "  'status_regionalizacao': ''},\n",
    " {'subprefeitura': 'OESTE',\n",
    "  'projecao_quadrienio': 0,\n",
    "  'status_regionalizacao': ''},\n",
    " {'subprefeitura': 'SUL',\n",
    "  'projecao_quadrienio': 2,\n",
    "  'status_regionalizacao': ''}]"
   ]
  },
  {
   "cell_type": "code",
   "execution_count": 72,
   "id": "b2bbd1ff",
   "metadata": {},
   "outputs": [],
   "source": [
    "ficha['regionalizacao'] = ficha['regionalizacao'][:-5] + zonas"
   ]
  },
  {
   "cell_type": "code",
   "execution_count": 73,
   "id": "a5db234c",
   "metadata": {},
   "outputs": [
    {
     "data": {
      "image/png": "[encoded data removed]",
      "text/plain": [
       "<Figure size 720x1080 with 2 Axes>"
      ]
     },
     "metadata": {
      "needs_background": "light"
     },
     "output_type": "display_data"
    }
   ],
   "source": [
    "fig = builder.plot_data(ficha, 'zonas')"
   ]
  },
  {
   "cell_type": "code",
   "execution_count": 74,
   "id": "07096709",
   "metadata": {},
   "outputs": [],
   "source": [
    "l = fig.axes[1].get_yticklabels()"
   ]
  },
  {
   "cell_type": "code",
   "execution_count": 78,
   "id": "4ad70fa7",
   "metadata": {},
   "outputs": [],
   "source": [
    "a = l[0].get_text()"
   ]
  },
  {
   "cell_type": "code",
   "execution_count": 81,
   "id": "ec11792a",
   "metadata": {},
   "outputs": [
    {
     "data": {
      "text/plain": [
       "0"
      ]
     },
     "execution_count": 81,
     "metadata": {},
     "output_type": "execute_result"
    }
   ],
   "source": [
    "int(float(a))"
   ]
  },
  {
   "cell_type": "code",
   "execution_count": 62,
   "id": "62cc4d4e",
   "metadata": {},
   "outputs": [
    {
     "data": {
      "text/plain": [
       "[Text(1, 0.0, '0'),\n",
       " Text(1, 0.25, ''),\n",
       " Text(1, 0.5, ''),\n",
       " Text(1, 0.75, ''),\n",
       " Text(1, 1.0, '1'),\n",
       " Text(1, 1.25, ''),\n",
       " Text(1, 1.5, ''),\n",
       " Text(1, 1.75, ''),\n",
       " Text(1, 2.0, '2')]"
      ]
     },
     "execution_count": 62,
     "metadata": {},
     "output_type": "execute_result"
    }
   ],
   "source": [
    "fig.axes[1].get_yticklabels()"
   ]
  },
  {
   "cell_type": "code",
   "execution_count": null,
   "id": "01459243",
   "metadata": {},
   "outputs": [],
   "source": []
  }
 ],
 "metadata": {
  "kernelspec": {
   "display_name": "Python 3",
   "language": "python",
   "name": "python3"
  },
  "language_info": {
   "codemirror_mode": {
    "name": "ipython",
    "version": 3
   },
   "file_extension": ".py",
   "mimetype": "text/x-python",
   "name": "python",
   "nbconvert_exporter": "python",
   "pygments_lexer": "ipython3",
   "version": "3.7.4"
  }
 },
 "nbformat": 4,
 "nbformat_minor": 5
}
