{
 "cells": [
  {
   "cell_type": "code",
   "execution_count": 1,
   "id": "c7b7c1a0",
   "metadata": {},
   "outputs": [],
   "source": [
    "from docx import Document\n",
    "from pdm_builder.planilhao_build import DocxParser"
   ]
  },
  {
   "cell_type": "code",
   "execution_count": 2,
   "id": "02898434",
   "metadata": {},
   "outputs": [],
   "source": [
    "class DODocBuilder:\n",
    "    \n",
    "    \n",
    "    def __init__(self, path_docx_origi, new_file_path):\n",
    "        \n",
    "        self.data = self.parse_data(path_docx_origi)\n",
    "        self.new_file_path = new_file_path\n",
    "        self.new_doc = Document()\n",
    "        \n",
    "    def parse_data(self, path_docx):\n",
    "        \n",
    "        parser = DocxParser(path_docx)\n",
    "        data = parser()\n",
    "        \n",
    "        return data\n",
    "\n",
    "    def build_obj_estrat(self, meta):\n",
    "\n",
    "        text = '((NG))Objetivo Estratégico:((NG)) {desc_objetivo}'\n",
    "\n",
    "        obj = meta['Objetivo estratégico'].strip()\n",
    "\n",
    "        return text.format(desc_objetivo=obj)\n",
    "\n",
    "    def build_meta(self, meta):\n",
    "\n",
    "        text = '((NG))Meta {meta_num}:((NG)) {meta_desc}'\n",
    "\n",
    "        meta_num = meta['Meta'].strip()\n",
    "        meta_desc = meta['Meta_'].strip()\n",
    "\n",
    "        return text.format(meta_num=meta_num, meta_desc=meta_desc)\n",
    "\n",
    "    def build_indicador(self, meta):\n",
    "\n",
    "        text = '((NG))Indicador:((NG)) {desc_indi}'\n",
    "\n",
    "        desc_indi = meta['Indicador'].strip()\n",
    "\n",
    "        return text.format(desc_indi=desc_indi)\n",
    "\n",
    "    def build_iniciativas(self, meta):\n",
    "\n",
    "        text = '((NG))Iniciativas:((NG))\\n{iniciativas}'\n",
    "\n",
    "        inis = meta['iniciativas']\n",
    "        inis_text = '\\n'.join([f'{key} {val}' for key, val in inis.items()])\n",
    "\n",
    "        return text.format(iniciativas=inis_text)\n",
    "    \n",
    "    def build_page(self, meta, doc):\n",
    "        \n",
    "        obj_estra = self.build_obj_estrat(meta)\n",
    "        doc.add_paragraph(obj_estra)\n",
    "        meta_text = self.build_meta(meta)\n",
    "        doc.add_paragraph(meta_text)\n",
    "        indicador = self.build_indicador(meta)\n",
    "        doc.add_paragraph(indicador)\n",
    "        iniciativas = self.build_iniciativas(meta)\n",
    "        doc.add_paragraph(iniciativas)\n",
    "        \n",
    "    def build_whole_doc(self, doc = None, data = None):\n",
    "        \n",
    "        if data is None:\n",
    "            data = self.data\n",
    "        if doc is None:\n",
    "            doc = self.new_doc\n",
    "            \n",
    "        for i, meta in enumerate(data):\n",
    "            self.build_page(meta, doc)\n",
    "            if i < len(data)-1:\n",
    "                doc.add_paragraph('\\n')\n",
    "\n",
    "        \n",
    "    def __call__(self):\n",
    "        \n",
    "        self.build_whole_doc()\n",
    "        \n",
    "        self.new_doc.save(self.new_file_path)"
   ]
  },
  {
   "cell_type": "code",
   "execution_count": 3,
   "id": "4dad337e",
   "metadata": {},
   "outputs": [],
   "source": [
    "path_arquivo = 'original_data/Fichas para Diagramar - 25.06.docx'"
   ]
  },
  {
   "cell_type": "code",
   "execution_count": 4,
   "id": "ab020dfb",
   "metadata": {},
   "outputs": [],
   "source": [
    "do_builder = DODocBuilder(path_arquivo, 'teste_DO_2.docx')"
   ]
  },
  {
   "cell_type": "code",
   "execution_count": 5,
   "id": "451fc6e0",
   "metadata": {},
   "outputs": [],
   "source": [
    "do_builder()"
   ]
  },
  {
   "cell_type": "code",
   "execution_count": null,
   "id": "bf5a8fba",
   "metadata": {},
   "outputs": [],
   "source": []
  }
 ],
 "metadata": {
  "kernelspec": {
   "display_name": "Python 3",
   "language": "python",
   "name": "python3"
  },
  "language_info": {
   "codemirror_mode": {
    "name": "ipython",
    "version": 3
   },
   "file_extension": ".py",
   "mimetype": "text/x-python",
   "name": "python",
   "nbconvert_exporter": "python",
   "pygments_lexer": "ipython3",
   "version": "3.7.4"
  }
 },
 "nbformat": 4,
 "nbformat_minor": 5
}
