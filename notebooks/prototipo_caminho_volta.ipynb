{
 "cells": [
  {
   "cell_type": "code",
   "execution_count": 1,
   "id": "89459ef9",
   "metadata": {},
   "outputs": [],
   "source": [
    "import docx\n",
    "import os\n",
    "from openpyxl import load_workbook"
   ]
  },
  {
   "cell_type": "code",
   "execution_count": 2,
   "id": "bb5c079a",
   "metadata": {},
   "outputs": [],
   "source": [
    "doc_path = 'teste_8.docx'"
   ]
  },
  {
   "cell_type": "code",
   "execution_count": 3,
   "id": "43922fea",
   "metadata": {},
   "outputs": [],
   "source": [
    "class PlanilhaNaoEncontrada(ValueError):\n",
    "    '''Raised quando nao encontra a planilha para a meta'''\n",
    "\n",
    "\n",
    "class ParserTables:\n",
    "    \n",
    "    table_mapper  = {\n",
    "        0 : 'Meta ',\n",
    "        1 : 'Objetivo estratégico',\n",
    "        2 : 'Meta',\n",
    "        3 : 'Indicador',\n",
    "        4 : 'Contexto',\n",
    "        5 : 'Informações Complementares',\n",
    "        6 : 'ODS vinculados',\n",
    "        7 : 'Iniciativas',\n",
    "        8 : 'Secretaria Responsável',\n",
    "        9 : 'Total Orçado',\n",
    "        10 : 'Regionalização - projeção quadriênio'\n",
    "    }\n",
    "    \n",
    "    def __init__(self, doc_path):\n",
    "        \n",
    "        self.doc = docx.Document(doc_path)\n",
    "        \n",
    "    def parse_tables(self, result_list = None):\n",
    "        \n",
    "        if result_list is None:\n",
    "            result_list = list()\n",
    "        \n",
    "        for table in self.doc.tables:\n",
    "            parsed = {}\n",
    "            for i, row in enumerate(table.rows):\n",
    "                cells = row.cells\n",
    "                row_label = cells[0].text\n",
    "                row_value = cells[1].text\n",
    "                \n",
    "                if row_label != self.table_mapper[i]:\n",
    "                    raise ValueError(f'Tabela fora do formato : ({row_label}  {row_value})')\n",
    "                \n",
    "                parsed[row_label] = row_value\n",
    "                \n",
    "            result_list.append(parsed)\n",
    "        \n",
    "        return result_list\n",
    "    \n",
    "    def parse_iniciativas(self, txt_iniciativas):\n",
    "    \n",
    "        parsed = {}\n",
    "        ini_list = txt_iniciativas.split('\\n')\n",
    "\n",
    "        for ini in ini_list:\n",
    "            try:\n",
    "                letra, val = ini.split(') ')[:2]\n",
    "                parsed[letra] = val\n",
    "            except ValueError:\n",
    "                print(ini)\n",
    "                print(ini_list)\n",
    "\n",
    "        return parsed\n",
    "    \n",
    "    def parse_region(self, txt_regionalizacao):\n",
    "        \n",
    "        parsed = {}\n",
    "        \n",
    "        reg_list = txt_regionalizacao.split('\\n')\n",
    "        for reg in reg_list:\n",
    "            \n",
    "            subs, val = reg.split(' : ')\n",
    "            parsed[subs] = val\n",
    "            \n",
    "        \n",
    "        return parsed\n",
    "    \n",
    "    def __call__(self):\n",
    "                \n",
    "        parsed = self.parse_tables()\n",
    "        \n",
    "        key_reg = self.table_mapper[10]\n",
    "        key_ini = self.table_mapper[7]\n",
    "        \n",
    "        for table in parsed:\n",
    "            table[key_reg] = self.parse_region(table[key_reg])\n",
    "            table[key_ini] = self.parse_iniciativas(table[key_ini])\n",
    "            \n",
    "        return parsed\n",
    "    \n",
    "class ExcelInputer:\n",
    "    \n",
    "    \n",
    "    xl_mapper = {\n",
    "        'Meta ' : 'C5',\n",
    "        #'Objetivo estratégico' : None,\n",
    "        'Meta' : 'C6',\n",
    "        'Indicador' : 'C9',\n",
    "        'Contexto' : 'C10',\n",
    "        'Informações Complementares' : 'C11',\n",
    "        #'ODS vinculados' : None,\n",
    "        #'Iniciativas' : 'solve_iniciativas',\n",
    "        'Secretaria Responsável' : 'C4',\n",
    "        #'Total Orçado' : None,\n",
    "        #'Regionalização - projeção quadriênio' : 'solve_regionalizacao'\n",
    "        \n",
    "    }\n",
    "    \n",
    "    def __init__(self, parsed_data, folder_original, folder_salvar):\n",
    "        \n",
    "        \n",
    "        self.planilhas = self.get_planilhas(folder_original)\n",
    "        self.folder_salvar = self.solve_folder(folder_salvar)\n",
    "        self.data = parsed_data\n",
    "        \n",
    "    def solve_folder(self, folder):\n",
    "        \n",
    "        if not os.path.exists(folder):\n",
    "            os.mkdir(folder)\n",
    "            \n",
    "        return folder\n",
    "        \n",
    "    def get_planilhas(self, folder_original):\n",
    "        \n",
    "        fpaths =  [os.path.join(folder_original, file) for file in \n",
    "                    os.listdir(folder_original) if 'xls' \n",
    "                    in file.split('.')[-1]]\n",
    "        \n",
    "        return fpaths\n",
    "    \n",
    "    def read_workbook(self, file):\n",
    "        \n",
    "        wb = load_workbook(file, read_only=False, data_only=True)\n",
    "        \n",
    "        return wb\n",
    "    \n",
    "    def match_planilha(self, wb, num_meta):\n",
    "        \n",
    "        sheet = wb['Ficha técnica Meta ']\n",
    "        \n",
    "        num_meta_planilha = sheet['C5'].value\n",
    "        \n",
    "        if str(num_meta_planilha) == num_meta:\n",
    "            return True\n",
    "        \n",
    "    def find_planilha(self, num_meta):\n",
    "        \n",
    "        for file in self.planilhas:\n",
    "            wb = self.read_workbook(file)\n",
    "            \n",
    "            if self.match_planilha(wb, num_meta):\n",
    "                return file, wb\n",
    "        else:\n",
    "            raise PlanilhaNaoEncontrada(f'Planilha para a meta {num_meta} não encontrada')\n",
    "            \n",
    "    def save_wb(self, wb, orig_file_path):\n",
    "        \n",
    "        orig_f_name = os.path.split(orig_file_path)[-1]\n",
    "        save_path = os.path.join(self.folder_salvar, orig_f_name)\n",
    "        \n",
    "        wb.save(save_path)\n",
    "        \n",
    "        wb.close()\n",
    "        \n",
    "        \n",
    "            \n",
    "    def insert_data(self, sheet, parsed_data):\n",
    "        \n",
    "        \n",
    "        for nome_campo in parsed_data:\n",
    "            if nome_campo in self.xl_mapper:\n",
    "                celula = self.xl_mapper[nome_campo]\n",
    "                valor = parsed_data[nome_campo]\n",
    "                sheet[celula] = valor\n",
    "                \n",
    "    def __call__(self):\n",
    "        \n",
    "        for parsed in self.data:\n",
    "            \n",
    "            num_meta = parsed['Meta ']\n",
    "            print(f'escrevendo {num_meta}')\n",
    "            try:\n",
    "                file, wb = self.find_planilha(num_meta)\n",
    "            except PlanilhaNaoEncontrada as e:\n",
    "                print(e)\n",
    "                continue\n",
    "            sheet = wb['Ficha técnica Meta ']\n",
    "            self.insert_data(sheet, parsed)\n",
    "            self.save_wb(wb, file)\n",
    "            \n",
    "                "
   ]
  },
  {
   "cell_type": "code",
   "execution_count": 4,
   "id": "f6c13259",
   "metadata": {},
   "outputs": [],
   "source": [
    "p = ParserTables(doc_path)"
   ]
  },
  {
   "cell_type": "code",
   "execution_count": 5,
   "id": "aa17f767",
   "metadata": {},
   "outputs": [
    {
     "name": "stdout",
     "output_type": "stream",
     "text": [
      "Programa WiFi Livre SP;\n",
      "['a) Realizar diagnóstico e elaborar plano de revisão e expansão do', 'Programa WiFi Livre SP;', 'b) Unificar e definir padrões mínimos para as iniciativas de Wi-Fi Público das Secretarias;', 'c) Sinalizar com placas indicativas todas as localidades do Programa Wi-Fi Livre SP;', 'd) Estruturar e realizar ações de divulgação para expandir o número de usuários do Programa Wi-fi Livre SP.']\n",
      "ao cidadão;\n",
      "['a) Adequar o padrão de atendimento a fim de garantir excelência no atendimento', 'ao cidadão;', 'b) Atualizar e modernizar o parque tecnológico;', 'c) Padronizar a comunicação visual para torná-la mais simples e acessível;', 'd) Realizar adequação básica do layout físico das praças para otimização dos atendimentos.']\n"
     ]
    }
   ],
   "source": [
    "parsed_data = p()"
   ]
  },
  {
   "cell_type": "code",
   "execution_count": 6,
   "id": "f7362b8d",
   "metadata": {},
   "outputs": [],
   "source": [
    "e = ExcelInputer(parsed_data,\n",
    "                'original_data/Devolutiva 11-jun/',\n",
    "                'teste_retorno_2')"
   ]
  },
  {
   "cell_type": "code",
   "execution_count": null,
   "id": "85f02292",
   "metadata": {},
   "outputs": [
    {
     "name": "stdout",
     "output_type": "stream",
     "text": [
      "escrevendo 1\n"
     ]
    }
   ],
   "source": [
    "e()"
   ]
  },
  {
   "cell_type": "code",
   "execution_count": null,
   "id": "e3d551e3",
   "metadata": {},
   "outputs": [],
   "source": []
  },
  {
   "cell_type": "code",
   "execution_count": 5,
   "id": "f08f6fa2",
   "metadata": {},
   "outputs": [],
   "source": [
    "path_one_drive = r'C:\\Users\\h-pgy\\one_drive_prefs\\OneDrive - Default Directory\\Shared Documents\\Estruturação do PDM 2021-2024\\Elaboração PDM Versão Final\\Fichas Metas'"
   ]
  },
  {
   "cell_type": "code",
   "execution_count": 6,
   "id": "833663e7",
   "metadata": {},
   "outputs": [],
   "source": [
    "import os"
   ]
  },
  {
   "cell_type": "code",
   "execution_count": 7,
   "id": "d01e19af",
   "metadata": {},
   "outputs": [
    {
     "data": {
      "text/plain": [
       "['Devolutiva 11-jun']"
      ]
     },
     "execution_count": 7,
     "metadata": {},
     "output_type": "execute_result"
    }
   ],
   "source": [
    "os.listdir(path_one_drive)"
   ]
  },
  {
   "cell_type": "code",
   "execution_count": null,
   "id": "697aff76",
   "metadata": {},
   "outputs": [],
   "source": []
  }
 ],
 "metadata": {
  "kernelspec": {
   "display_name": "Python 3",
   "language": "python",
   "name": "python3"
  },
  "language_info": {
   "codemirror_mode": {
    "name": "ipython",
    "version": 3
   },
   "file_extension": ".py",
   "mimetype": "text/x-python",
   "name": "python",
   "nbconvert_exporter": "python",
   "pygments_lexer": "ipython3",
   "version": "3.7.4"
  }
 },
 "nbformat": 4,
 "nbformat_minor": 5
}
