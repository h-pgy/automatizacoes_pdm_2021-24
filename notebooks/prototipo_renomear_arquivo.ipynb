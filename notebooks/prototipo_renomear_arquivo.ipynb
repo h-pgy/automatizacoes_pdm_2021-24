{
 "cells": [
  {
   "cell_type": "code",
   "execution_count": 1,
   "id": "f0fd3cf5",
   "metadata": {},
   "outputs": [],
   "source": [
    "import os\n",
    "import pandas as pd\n",
    "from pathlib import Path"
   ]
  },
  {
   "cell_type": "code",
   "execution_count": 2,
   "id": "d8f93349",
   "metadata": {},
   "outputs": [],
   "source": [
    "PATH_ONE_DRIVE = Path(r'C:\\Users\\h-pgy\\one_drive_prefs\\OneDrive - Default Directory\\Shared Documents\\Estruturação do PDM 2021-2024\\Elaboração PDM Versão Final')"
   ]
  },
  {
   "cell_type": "code",
   "execution_count": 3,
   "id": "a6719024",
   "metadata": {},
   "outputs": [],
   "source": [
    "class MapFileRenamer:\n",
    "    \n",
    "    def __init__(self, dir_origi, new_dir):\n",
    "        \n",
    "        self.dir_origi = self.get_one_drive_path(dir_origi)\n",
    "        self.new_dir = self.solve_new_path(new_dir)\n",
    "        self.control = self.read_controle()\n",
    "        \n",
    "    def solve_new_path(self, new_path):\n",
    "        \n",
    "        new_path_one_drive = self.get_one_drive_path(new_path)\n",
    "        if not os.path.exists(new_path_one_drive):\n",
    "            os.mkdir(new_path_one_drive)\n",
    "        \n",
    "        return new_path_one_drive\n",
    "    \n",
    "    def get_one_drive_path(self, path_or_file):\n",
    "    \n",
    "        return PATH_ONE_DRIVE/path_or_file\n",
    "    \n",
    "    def read_controle(self):\n",
    "    \n",
    "        path_controle_one_drive = self.get_one_drive_path(\n",
    "            'Controle das Devolutivas.xlsx')\n",
    "\n",
    "        return pd.read_excel(path_controle_one_drive)\n",
    "    \n",
    "    def list_arquivos(self, path_dir=None):\n",
    "        \n",
    "        if path_dir is None:\n",
    "            path_dir = self.dir_origi\n",
    "        \n",
    "        return os.listdir(path_dir)\n",
    "    \n",
    "    def get_num_meta_file(self, f):\n",
    "    \n",
    "        return float(f.split('_')[0])\n",
    "    \n",
    "    def get_novo_num_meta(self, file, control = None):\n",
    "        \n",
    "        if control is None:\n",
    "            control = self.control\n",
    "    \n",
    "        num_origi = self.get_num_meta_file(file)\n",
    "\n",
    "        row = control[control['Meta']==num_origi]\n",
    "\n",
    "        num = row['NOVO Nº Meta'].values[0]\n",
    "        \n",
    "        if pd.isnull(num):\n",
    "            return 'sem_numero_novo' + str(num_origi)\n",
    "        else:\n",
    "            return int(num)\n",
    "    \n",
    "    def rename_file(self, file, novo_num, path_salvar = None):\n",
    "        \n",
    "        if path_salvar is None:\n",
    "            path_salvar = self.new_dir\n",
    "    \n",
    "        end = file.split('_')[-1]\n",
    "        f_name = str(novo_num) + '_' + end\n",
    "\n",
    "        return os.path.join(path_salvar, f_name)\n",
    "    \n",
    "    def copy_bin_file(self, old_name, new_name):\n",
    "    \n",
    "        with open(old_name, 'rb') as f:\n",
    "            data = f.read()\n",
    "            with open(new_name, 'wb') as new_f:\n",
    "                new_f.write(data)\n",
    "                \n",
    "    def __call__(self):\n",
    "        \n",
    "        \n",
    "        for old_file in self.list_arquivos():\n",
    "            old_path = os.path.join(self.dir_origi, old_file)\n",
    "            novo_num = self.get_novo_num_meta(old_file)\n",
    "            new_name = self.rename_file(old_file, novo_num)\n",
    "            \n",
    "            self.copy_bin_file(old_path, new_name)\n",
    "            print(f'{new_name} criado')"
   ]
  },
  {
   "cell_type": "code",
   "execution_count": 4,
   "id": "ae2883c1",
   "metadata": {},
   "outputs": [],
   "source": [
    "path_mapas_velho = 'Mapas - Regionalização\\V4 (numeração antiga)'\n",
    "path_mapas_novo = 'Mapas - Regionalização\\V4 (numeração nova)'"
   ]
  },
  {
   "cell_type": "code",
   "execution_count": 5,
   "id": "ea9e6616",
   "metadata": {},
   "outputs": [],
   "source": [
    "renamer = MapFileRenamer(path_mapas_velho, path_mapas_novo)"
   ]
  },
  {
   "cell_type": "code",
   "execution_count": 6,
   "id": "7dd731ee",
   "metadata": {},
   "outputs": [
    {
     "name": "stdout",
     "output_type": "stream",
     "text": [
      "C:\\Users\\h-pgy\\one_drive_prefs\\OneDrive - Default Directory\\Shared Documents\\Estruturação do PDM 2021-2024\\Elaboração PDM Versão Final\\Mapas - Regionalização\\V4 (numeração nova)\\12subs.png criado\n",
      "C:\\Users\\h-pgy\\one_drive_prefs\\OneDrive - Default Directory\\Shared Documents\\Estruturação do PDM 2021-2024\\Elaboração PDM Versão Final\\Mapas - Regionalização\\V4 (numeração nova)\\13subs.png criado\n",
      "C:\\Users\\h-pgy\\one_drive_prefs\\OneDrive - Default Directory\\Shared Documents\\Estruturação do PDM 2021-2024\\Elaboração PDM Versão Final\\Mapas - Regionalização\\V4 (numeração nova)\\14subs.png criado\n",
      "C:\\Users\\h-pgy\\one_drive_prefs\\OneDrive - Default Directory\\Shared Documents\\Estruturação do PDM 2021-2024\\Elaboração PDM Versão Final\\Mapas - Regionalização\\V4 (numeração nova)\\16subs.png criado\n",
      "C:\\Users\\h-pgy\\one_drive_prefs\\OneDrive - Default Directory\\Shared Documents\\Estruturação do PDM 2021-2024\\Elaboração PDM Versão Final\\Mapas - Regionalização\\V4 (numeração nova)\\17subs.png criado\n",
      "C:\\Users\\h-pgy\\one_drive_prefs\\OneDrive - Default Directory\\Shared Documents\\Estruturação do PDM 2021-2024\\Elaboração PDM Versão Final\\Mapas - Regionalização\\V4 (numeração nova)\\25subs.png criado\n",
      "C:\\Users\\h-pgy\\one_drive_prefs\\OneDrive - Default Directory\\Shared Documents\\Estruturação do PDM 2021-2024\\Elaboração PDM Versão Final\\Mapas - Regionalização\\V4 (numeração nova)\\27subs.png criado\n",
      "C:\\Users\\h-pgy\\one_drive_prefs\\OneDrive - Default Directory\\Shared Documents\\Estruturação do PDM 2021-2024\\Elaboração PDM Versão Final\\Mapas - Regionalização\\V4 (numeração nova)\\28subs.png criado\n",
      "C:\\Users\\h-pgy\\one_drive_prefs\\OneDrive - Default Directory\\Shared Documents\\Estruturação do PDM 2021-2024\\Elaboração PDM Versão Final\\Mapas - Regionalização\\V4 (numeração nova)\\30subs.png criado\n",
      "C:\\Users\\h-pgy\\one_drive_prefs\\OneDrive - Default Directory\\Shared Documents\\Estruturação do PDM 2021-2024\\Elaboração PDM Versão Final\\Mapas - Regionalização\\V4 (numeração nova)\\3subs.png criado\n",
      "C:\\Users\\h-pgy\\one_drive_prefs\\OneDrive - Default Directory\\Shared Documents\\Estruturação do PDM 2021-2024\\Elaboração PDM Versão Final\\Mapas - Regionalização\\V4 (numeração nova)\\4subs.png criado\n",
      "C:\\Users\\h-pgy\\one_drive_prefs\\OneDrive - Default Directory\\Shared Documents\\Estruturação do PDM 2021-2024\\Elaboração PDM Versão Final\\Mapas - Regionalização\\V4 (numeração nova)\\32subs.png criado\n",
      "C:\\Users\\h-pgy\\one_drive_prefs\\OneDrive - Default Directory\\Shared Documents\\Estruturação do PDM 2021-2024\\Elaboração PDM Versão Final\\Mapas - Regionalização\\V4 (numeração nova)\\33subs.png criado\n",
      "C:\\Users\\h-pgy\\one_drive_prefs\\OneDrive - Default Directory\\Shared Documents\\Estruturação do PDM 2021-2024\\Elaboração PDM Versão Final\\Mapas - Regionalização\\V4 (numeração nova)\\37subs.png criado\n",
      "C:\\Users\\h-pgy\\one_drive_prefs\\OneDrive - Default Directory\\Shared Documents\\Estruturação do PDM 2021-2024\\Elaboração PDM Versão Final\\Mapas - Regionalização\\V4 (numeração nova)\\38subs.png criado\n",
      "C:\\Users\\h-pgy\\one_drive_prefs\\OneDrive - Default Directory\\Shared Documents\\Estruturação do PDM 2021-2024\\Elaboração PDM Versão Final\\Mapas - Regionalização\\V4 (numeração nova)\\40subs.png criado\n",
      "C:\\Users\\h-pgy\\one_drive_prefs\\OneDrive - Default Directory\\Shared Documents\\Estruturação do PDM 2021-2024\\Elaboração PDM Versão Final\\Mapas - Regionalização\\V4 (numeração nova)\\41subs.png criado\n",
      "C:\\Users\\h-pgy\\one_drive_prefs\\OneDrive - Default Directory\\Shared Documents\\Estruturação do PDM 2021-2024\\Elaboração PDM Versão Final\\Mapas - Regionalização\\V4 (numeração nova)\\42subs.png criado\n",
      "C:\\Users\\h-pgy\\one_drive_prefs\\OneDrive - Default Directory\\Shared Documents\\Estruturação do PDM 2021-2024\\Elaboração PDM Versão Final\\Mapas - Regionalização\\V4 (numeração nova)\\44subs.png criado\n",
      "C:\\Users\\h-pgy\\one_drive_prefs\\OneDrive - Default Directory\\Shared Documents\\Estruturação do PDM 2021-2024\\Elaboração PDM Versão Final\\Mapas - Regionalização\\V4 (numeração nova)\\44sp.png criado\n",
      "C:\\Users\\h-pgy\\one_drive_prefs\\OneDrive - Default Directory\\Shared Documents\\Estruturação do PDM 2021-2024\\Elaboração PDM Versão Final\\Mapas - Regionalização\\V4 (numeração nova)\\45subs.png criado\n",
      "C:\\Users\\h-pgy\\one_drive_prefs\\OneDrive - Default Directory\\Shared Documents\\Estruturação do PDM 2021-2024\\Elaboração PDM Versão Final\\Mapas - Regionalização\\V4 (numeração nova)\\45sp.png criado\n",
      "C:\\Users\\h-pgy\\one_drive_prefs\\OneDrive - Default Directory\\Shared Documents\\Estruturação do PDM 2021-2024\\Elaboração PDM Versão Final\\Mapas - Regionalização\\V4 (numeração nova)\\46subs.png criado\n",
      "C:\\Users\\h-pgy\\one_drive_prefs\\OneDrive - Default Directory\\Shared Documents\\Estruturação do PDM 2021-2024\\Elaboração PDM Versão Final\\Mapas - Regionalização\\V4 (numeração nova)\\47subs.png criado\n",
      "C:\\Users\\h-pgy\\one_drive_prefs\\OneDrive - Default Directory\\Shared Documents\\Estruturação do PDM 2021-2024\\Elaboração PDM Versão Final\\Mapas - Regionalização\\V4 (numeração nova)\\51subs.png criado\n",
      "C:\\Users\\h-pgy\\one_drive_prefs\\OneDrive - Default Directory\\Shared Documents\\Estruturação do PDM 2021-2024\\Elaboração PDM Versão Final\\Mapas - Regionalização\\V4 (numeração nova)\\5sp.png criado\n",
      "C:\\Users\\h-pgy\\one_drive_prefs\\OneDrive - Default Directory\\Shared Documents\\Estruturação do PDM 2021-2024\\Elaboração PDM Versão Final\\Mapas - Regionalização\\V4 (numeração nova)\\52subs.png criado\n",
      "C:\\Users\\h-pgy\\one_drive_prefs\\OneDrive - Default Directory\\Shared Documents\\Estruturação do PDM 2021-2024\\Elaboração PDM Versão Final\\Mapas - Regionalização\\V4 (numeração nova)\\sem_numero_novo52.1subs.png criado\n",
      "C:\\Users\\h-pgy\\one_drive_prefs\\OneDrive - Default Directory\\Shared Documents\\Estruturação do PDM 2021-2024\\Elaboração PDM Versão Final\\Mapas - Regionalização\\V4 (numeração nova)\\sem_numero_novo52.2subs.png criado\n",
      "C:\\Users\\h-pgy\\one_drive_prefs\\OneDrive - Default Directory\\Shared Documents\\Estruturação do PDM 2021-2024\\Elaboração PDM Versão Final\\Mapas - Regionalização\\V4 (numeração nova)\\sem_numero_novo52.3subs.png criado\n",
      "C:\\Users\\h-pgy\\one_drive_prefs\\OneDrive - Default Directory\\Shared Documents\\Estruturação do PDM 2021-2024\\Elaboração PDM Versão Final\\Mapas - Regionalização\\V4 (numeração nova)\\54subs.png criado\n",
      "C:\\Users\\h-pgy\\one_drive_prefs\\OneDrive - Default Directory\\Shared Documents\\Estruturação do PDM 2021-2024\\Elaboração PDM Versão Final\\Mapas - Regionalização\\V4 (numeração nova)\\sem_numero_novo54.2subs.png criado\n",
      "C:\\Users\\h-pgy\\one_drive_prefs\\OneDrive - Default Directory\\Shared Documents\\Estruturação do PDM 2021-2024\\Elaboração PDM Versão Final\\Mapas - Regionalização\\V4 (numeração nova)\\56subs.png criado\n",
      "C:\\Users\\h-pgy\\one_drive_prefs\\OneDrive - Default Directory\\Shared Documents\\Estruturação do PDM 2021-2024\\Elaboração PDM Versão Final\\Mapas - Regionalização\\V4 (numeração nova)\\57subs.png criado\n",
      "C:\\Users\\h-pgy\\one_drive_prefs\\OneDrive - Default Directory\\Shared Documents\\Estruturação do PDM 2021-2024\\Elaboração PDM Versão Final\\Mapas - Regionalização\\V4 (numeração nova)\\58subs.png criado\n",
      "C:\\Users\\h-pgy\\one_drive_prefs\\OneDrive - Default Directory\\Shared Documents\\Estruturação do PDM 2021-2024\\Elaboração PDM Versão Final\\Mapas - Regionalização\\V4 (numeração nova)\\59subs.png criado\n",
      "C:\\Users\\h-pgy\\one_drive_prefs\\OneDrive - Default Directory\\Shared Documents\\Estruturação do PDM 2021-2024\\Elaboração PDM Versão Final\\Mapas - Regionalização\\V4 (numeração nova)\\60subs.png criado\n",
      "C:\\Users\\h-pgy\\one_drive_prefs\\OneDrive - Default Directory\\Shared Documents\\Estruturação do PDM 2021-2024\\Elaboração PDM Versão Final\\Mapas - Regionalização\\V4 (numeração nova)\\61sp.png criado\n",
      "C:\\Users\\h-pgy\\one_drive_prefs\\OneDrive - Default Directory\\Shared Documents\\Estruturação do PDM 2021-2024\\Elaboração PDM Versão Final\\Mapas - Regionalização\\V4 (numeração nova)\\62subs.png criado\n",
      "C:\\Users\\h-pgy\\one_drive_prefs\\OneDrive - Default Directory\\Shared Documents\\Estruturação do PDM 2021-2024\\Elaboração PDM Versão Final\\Mapas - Regionalização\\V4 (numeração nova)\\63subs.png criado\n",
      "C:\\Users\\h-pgy\\one_drive_prefs\\OneDrive - Default Directory\\Shared Documents\\Estruturação do PDM 2021-2024\\Elaboração PDM Versão Final\\Mapas - Regionalização\\V4 (numeração nova)\\7subs.png criado\n",
      "C:\\Users\\h-pgy\\one_drive_prefs\\OneDrive - Default Directory\\Shared Documents\\Estruturação do PDM 2021-2024\\Elaboração PDM Versão Final\\Mapas - Regionalização\\V4 (numeração nova)\\72subs.png criado\n",
      "C:\\Users\\h-pgy\\one_drive_prefs\\OneDrive - Default Directory\\Shared Documents\\Estruturação do PDM 2021-2024\\Elaboração PDM Versão Final\\Mapas - Regionalização\\V4 (numeração nova)\\8sp.png criado\n",
      "C:\\Users\\h-pgy\\one_drive_prefs\\OneDrive - Default Directory\\Shared Documents\\Estruturação do PDM 2021-2024\\Elaboração PDM Versão Final\\Mapas - Regionalização\\V4 (numeração nova)\\10subs.png criado\n"
     ]
    }
   ],
   "source": [
    "renamer()    "
   ]
  },
  {
   "cell_type": "code",
   "execution_count": null,
   "id": "c8500e10",
   "metadata": {},
   "outputs": [],
   "source": []
  },
  {
   "cell_type": "code",
   "execution_count": null,
   "id": "04972115",
   "metadata": {},
   "outputs": [],
   "source": []
  },
  {
   "cell_type": "code",
   "execution_count": null,
   "id": "f75476b2",
   "metadata": {},
   "outputs": [],
   "source": []
  },
  {
   "cell_type": "code",
   "execution_count": null,
   "id": "60068e0d",
   "metadata": {},
   "outputs": [],
   "source": []
  },
  {
   "cell_type": "code",
   "execution_count": null,
   "id": "a54d4394",
   "metadata": {},
   "outputs": [],
   "source": []
  },
  {
   "cell_type": "code",
   "execution_count": null,
   "id": "a23293a8",
   "metadata": {},
   "outputs": [],
   "source": []
  },
  {
   "cell_type": "code",
   "execution_count": null,
   "id": "c1f3c339",
   "metadata": {},
   "outputs": [],
   "source": []
  }
 ],
 "metadata": {
  "kernelspec": {
   "display_name": "Python 3",
   "language": "python",
   "name": "python3"
  },
  "language_info": {
   "codemirror_mode": {
    "name": "ipython",
    "version": 3
   },
   "file_extension": ".py",
   "mimetype": "text/x-python",
   "name": "python",
   "nbconvert_exporter": "python",
   "pygments_lexer": "ipython3",
   "version": "3.7.4"
  }
 },
 "nbformat": 4,
 "nbformat_minor": 5
}
